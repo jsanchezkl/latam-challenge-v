{
 "cells": [
  {
   "cell_type": "markdown",
   "metadata": {},
   "source": [
    "# Challenge Data Engineer\n",
    "\n",
    "Para la ejecución del presente challenge tome en cuenta las instrucciones del archivo README.md y valide el uso de memoria y tiempo de ejecución desde la ejecución de cada archivo con el presente Notebook"
   ]
  },
  {
   "cell_type": "markdown",
   "metadata": {},
   "source": [
    "## Top 10 fechas donde hay más tweets.\n",
    "\n",
    "### 1. Optimización de tiempo de ejecución\n",
    "\n",
    "Para resolver el problema planteado, se implementa la función q1_time. Esta función procesa el archivo de tweets en formato JSON línea por línea, contando la cantidad de tweets por fecha y, simultáneamente, el número de tweets por usuario en cada fecha específica. Una vez recopilados los datos, utilice el método most_common de Counter para extraer las 10 fechas con más actividad y, para cada una de ellas, identifica el usuario que más tweets realizó ese día.\n",
    "\n",
    "El código optimiza el tiempo de ejecución mediante el uso de estructuras de datos como Counter y defaultdict(Counter) para realizar conteos rápidos. Además, maneje las excepciones de forma selectiva y evite operaciones costosas dentro del bucle, como impresiones innecesarias. Al utilizar métodos optimizados como most_common y realizar una única pasada sobre los datos, el código reduce significativamente el tiempo de procesamiento.\n",
    "\n",
    "Además muestro en la impresion del resultado el tiempo de ejecución y la memoria usada para el mismo."
   ]
  },
  {
   "cell_type": "code",
   "execution_count": 2,
   "metadata": {},
   "outputs": [
    {
     "name": "stdout",
     "output_type": "stream",
     "text": [
      "[(datetime.date(2021, 2, 12), 'RanbirS00614606'), (datetime.date(2021, 2, 13), 'MaanDee08215437'), (datetime.date(2021, 2, 17), 'RaaJVinderkaur'), (datetime.date(2021, 2, 16), 'jot__b'), (datetime.date(2021, 2, 14), 'rebelpacifist'), (datetime.date(2021, 2, 18), 'neetuanjle_nitu'), (datetime.date(2021, 2, 15), 'jot__b'), (datetime.date(2021, 2, 20), 'MangalJ23056160'), (datetime.date(2021, 2, 23), 'Surrypuria'), (datetime.date(2021, 2, 19), 'Preetm91')]\n",
      "Tiempo de ejecución: 9.86 segundos\n",
      "Memoria utilizada: 4.45 MiB\n"
     ]
    }
   ],
   "source": [
    "import importlib\n",
    "import q1_time\n",
    "import time\n",
    "import tracemalloc\n",
    "\n",
    "importlib.reload(q1_time)\n",
    "\n",
    "from q1_time import q1_time\n",
    "\n",
    "file_path = \"../tweets/farmers-protest-tweets-2021-2-4.json\"\n",
    "start_time = time.time()\n",
    "tracemalloc.start()\n",
    "result = q1_time(file_path)\n",
    "current, peak = tracemalloc.get_traced_memory()\n",
    "tracemalloc.stop()\n",
    "end_time = time.time()\n",
    "if result:\n",
    "    print(result)\n",
    "else:\n",
    "    print(\"No se encontraron resultados.\")\n",
    "execution_time = end_time - start_time\n",
    "print(f\"Tiempo de ejecución: {execution_time:.2f} segundos\")\n",
    "memory_used = peak / (1024 * 1024)\n",
    "print(f\"Memoria utilizada: {memory_used:.2f} MiB\")\n"
   ]
  },
  {
   "cell_type": "markdown",
   "metadata": {},
   "source": [
    "### 2. Optimización de memoria\n",
    "\n",
    "Para optimizar la memoria use estructuras de datos eficientescomo Counter y defaultdict(Counter), junto con el procesamiento iterativo línea por línea, asegura que el uso de memoria se mantenga bajo control incluso con archivos de gran tamaño. Al filtrar y procesar selectivamente solo los datos necesarios en cada etapa, el código logra un manejo eficiente de la memoria, permitiendo escalar para manejar grandes volúmenes de datos el rendimiento."
   ]
  },
  {
   "cell_type": "code",
   "execution_count": 3,
   "metadata": {},
   "outputs": [
    {
     "name": "stdout",
     "output_type": "stream",
     "text": [
      "[(datetime.date(2021, 2, 12), 'RanbirS00614606'), (datetime.date(2021, 2, 13), 'MaanDee08215437'), (datetime.date(2021, 2, 17), 'RaaJVinderkaur'), (datetime.date(2021, 2, 16), 'jot__b'), (datetime.date(2021, 2, 14), 'rebelpacifist'), (datetime.date(2021, 2, 18), 'neetuanjle_nitu'), (datetime.date(2021, 2, 15), 'jot__b'), (datetime.date(2021, 2, 20), 'MangalJ23056160'), (datetime.date(2021, 2, 23), 'Surrypuria'), (datetime.date(2021, 2, 19), 'Preetm91')]\n",
      "Tiempo de ejecución: 20.46 segundos\n",
      "Memoria utilizada: 3.77 MiB\n"
     ]
    }
   ],
   "source": [
    "import importlib\n",
    "import q1_memory\n",
    "import time\n",
    "import tracemalloc\n",
    "\n",
    "importlib.reload(q1_memory)\n",
    "\n",
    "from q1_memory import q1_memory\n",
    "\n",
    "file_path = \"../tweets/farmers-protest-tweets-2021-2-4.json\"\n",
    "start_time = time.time()\n",
    "tracemalloc.start()\n",
    "result = q1_memory(file_path)\n",
    "current, peak = tracemalloc.get_traced_memory()\n",
    "tracemalloc.stop()\n",
    "end_time = time.time()\n",
    "\n",
    "if result:\n",
    "    print(result)\n",
    "else:\n",
    "    print(\"No se encontraron resultados.\")\n",
    "execution_time = end_time - start_time\n",
    "print(f\"Tiempo de ejecución: {execution_time:.2f} segundos\")\n",
    "memory_used = peak / (1024 * 1024)\n",
    "print(f\"Memoria utilizada: {memory_used:.2f} MiB\")\n"
   ]
  },
  {
   "cell_type": "markdown",
   "metadata": {},
   "source": [
    "## Top 10 emojis más usados con su respectivo conteo\n",
    "\n",
    "### 1. Optimización de tiempo de ejecución\n",
    "\n",
    "para la extracción de emojis utilice expresiones regulares compiladas, y collections.Counter para contar la frecuencia de cada emoji de manera optimizada. Compile la expresión regular previamente, mejore la velocidad de procesamiento al reutilizar el patrón de búsqueda en cada iteración. El uso de Counter me permitió manejar los conteos de forma eficiente y obtener rápidamente los emojis más frecuentes. Asimismo, implemente un manejo selectivo de excepciones para asegurar el muestrepo de errores"
   ]
  },
  {
   "cell_type": "code",
   "execution_count": 5,
   "metadata": {},
   "outputs": [
    {
     "name": "stdout",
     "output_type": "stream",
     "text": [
      "[('🙏', 1916), ('❤️', 952), ('😂', 627), ('🌾', 529), ('💚', 493), ('👍', 459), ('👉', 450), ('✊', 437), ('🇮🇳', 399), ('👇', 387)]\n",
      "Tiempo de ejecución: 10.39 segundos\n",
      "Memoria utilizada: 0.49 MiB\n"
     ]
    }
   ],
   "source": [
    "import importlib\n",
    "import q2_time\n",
    "import time\n",
    "import tracemalloc\n",
    "\n",
    "importlib.reload(q2_time)\n",
    "\n",
    "from q2_time import q2_time\n",
    "\n",
    "file_path = \"../tweets/farmers-protest-tweets-2021-2-4.json\"\n",
    "start_time = time.time()\n",
    "tracemalloc.start()\n",
    "result = q2_time(file_path)\n",
    "current, peak = tracemalloc.get_traced_memory()\n",
    "tracemalloc.stop()\n",
    "end_time = time.time()\n",
    "if result:\n",
    "    print(result)\n",
    "else:\n",
    "    print(\"No se encontraron resultados.\")\n",
    "execution_time = end_time - start_time\n",
    "print(f\"Tiempo de ejecución: {execution_time:.2f} segundos\")\n",
    "memory_used = peak / (1024 * 1024)\n",
    "print(f\"Memoria utilizada: {memory_used:.2f} MiB\")\n"
   ]
  },
  {
   "cell_type": "markdown",
   "metadata": {},
   "source": [
    "### 2. Optimización de memoria\n",
    "\n",
    "En este caso optimice el uso de memoria al procesar el archivo de manera secuencial, utilice expresiones regulares compiladas y generadores eficientes como finditer."
   ]
  },
  {
   "cell_type": "code",
   "execution_count": 6,
   "metadata": {},
   "outputs": [
    {
     "name": "stdout",
     "output_type": "stream",
     "text": [
      "[('🙏', 1916), ('❤️', 952), ('😂', 627), ('🌾', 529), ('💚', 493), ('👍', 459), ('👉', 450), ('✊', 437), ('🇮🇳', 399), ('👇', 387)]\n",
      "Tiempo de ejecución: 10.58 segundos\n",
      "Memoria utilizada: 0.51 MiB\n"
     ]
    }
   ],
   "source": [
    "import importlib\n",
    "import q2_memory\n",
    "import time\n",
    "import tracemalloc\n",
    "\n",
    "importlib.reload(q2_memory)\n",
    "\n",
    "from q2_memory import q2_memory\n",
    "\n",
    "file_path = \"../tweets/farmers-protest-tweets-2021-2-4.json\"\n",
    "start_time = time.time()\n",
    "tracemalloc.start()\n",
    "result = q2_memory(file_path)\n",
    "current, peak = tracemalloc.get_traced_memory()\n",
    "tracemalloc.stop()\n",
    "end_time = time.time()\n",
    "if result:\n",
    "    print(result)\n",
    "else:\n",
    "    print(\"No se encontraron resultados.\")\n",
    "execution_time = end_time - start_time\n",
    "print(f\"Tiempo de ejecución: {execution_time:.2f} segundos\")\n",
    "memory_used = peak / (1024 * 1024)\n",
    "print(f\"Memoria utilizada: {memory_used:.2f} MiB\")"
   ]
  },
  {
   "cell_type": "markdown",
   "metadata": {},
   "source": [
    "## Top 10 histórico de usuarios (username) más influyentes en función del conteo de las menciones (@) que registra cada uno de ellos\n",
    "\n",
    "### 1. Optimización de tiempo de ejecución\n",
    "\n",
    "En este caso utilice una expresión regular compilada (mention_pattern) para extraer menciones de cada línea del archivo, lo que mejora la velocidad de procesamiento al evitar recompilaciones repetidas. El uso de Counter de la biblioteca collections me ayuda a actualizar y contar las menciones de manera rápida y optimizada. Finalmente, obtuve 10 menciones más comunes con most_common(10). "
   ]
  },
  {
   "cell_type": "code",
   "execution_count": null,
   "metadata": {},
   "outputs": [],
   "source": [
    "import importlib\n",
    "import q3_time\n",
    "import time\n",
    "import tracemalloc\n",
    "\n",
    "importlib.reload(q3_time)\n",
    "\n",
    "from q3_time import q3_time\n",
    "\n",
    "file_path = \"../tweets/farmers-protest-tweets-2021-2-4.json\"\n",
    "start_time = time.time()\n",
    "tracemalloc.start()\n",
    "result = q3_time(file_path)\n",
    "current, peak = tracemalloc.get_traced_memory()\n",
    "tracemalloc.stop()\n",
    "end_time = time.time()\n",
    "if result:\n",
    "    print(result)\n",
    "else:\n",
    "    print(\"No se encontraron resultados.\")\n",
    "execution_time = end_time - start_time\n",
    "print(f\"Tiempo de ejecución: {execution_time:.2f} segundos\")\n",
    "memory_used = peak / (1024 * 1024)\n",
    "print(f\"Memoria utilizada: {memory_used:.2f} MiB\")"
   ]
  },
  {
   "cell_type": "markdown",
   "metadata": {},
   "source": [
    "### 2. Optimización de memoria\n",
    "\n",
    "Para solucionar este punto optimizo el uso de memoria mediante el uso de expresiones generadoras en lugar de listas para manejar las menciones extraídas. Al emplear una expresión generadora (mentions = (match.group(1) for match in mention_pattern.finditer(text))), el código evita la creación de estructuras de datos intermedias grandes. "
   ]
  },
  {
   "cell_type": "code",
   "execution_count": null,
   "metadata": {},
   "outputs": [],
   "source": [
    "import importlib\n",
    "import q3_memory\n",
    "import time\n",
    "import tracemalloc\n",
    "\n",
    "importlib.reload(q3_memory)\n",
    "\n",
    "from q3_memory import q3_memory\n",
    "\n",
    "file_path = \"../tweets/farmers-protest-tweets-2021-2-4.json\"\n",
    "start_time = time.time()\n",
    "tracemalloc.start()\n",
    "result = q3_memory(file_path)\n",
    "current, peak = tracemalloc.get_traced_memory()\n",
    "tracemalloc.stop()\n",
    "end_time = time.time()\n",
    "if result:\n",
    "    print(result)\n",
    "else:\n",
    "    print(\"No se encontraron resultados.\")\n",
    "execution_time = end_time - start_time\n",
    "print(f\"Tiempo de ejecución: {execution_time:.2f} segundos\")\n",
    "memory_used = peak / (1024 * 1024)\n",
    "print(f\"Memoria utilizada: {memory_used:.2f} MiB\")"
   ]
  }
 ],
 "metadata": {
  "kernelspec": {
   "display_name": "base",
   "language": "python",
   "name": "python3"
  },
  "language_info": {
   "codemirror_mode": {
    "name": "ipython",
    "version": 3
   },
   "file_extension": ".py",
   "mimetype": "text/x-python",
   "name": "python",
   "nbconvert_exporter": "python",
   "pygments_lexer": "ipython3",
   "version": "3.11.5"
  }
 },
 "nbformat": 4,
 "nbformat_minor": 2
}
